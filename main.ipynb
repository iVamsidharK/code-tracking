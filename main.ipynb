{
 "cells": [
  {
   "cell_type": "markdown",
   "metadata": {},
   "source": [
    "## Diagonal Traversal Algorithms\n",
    "\n",
    "This section contains two algorithms for traversing a matrix diagonally.\n",
    "\n",
    "1. **Diagonal Traversal**: This algorithm traverses the matrix diagonally from the top-left to the bottom-right.\n",
    "2. **Diagonal Traversal Reverse**: This algorithm traverses the matrix diagonally from the top-left to the bottom-right, but in reverse order for each diagonal.\n",
    "\n",
    "The matrix used in these examples is defined as follows:\n",
    "\n",
    "```python\n",
    "matrix = [\n",
    "    [ 1,  2,  3,  4,  5,  6,  7,  8,  9, 10],\n",
    "    [11, 12, 13, 14, 15, 16, 17, 18, 19, 20],\n",
    "    [21, 22, 23, 24, 25, 26, 27, 28, 29, 30],\n",
    "    [31, 32, 33, 34, 35, 36, 37, 38, 39, 40],\n",
    "    [41, 42, 43, 44, 45, 46, 47, 48, 49, 50],\n",
    "    [51, 52, 53, 54, 55, 56, 57, 58, 59, 60],\n",
    "    [61, 62, 63, 64, 65, 66, 67, 68, 69, 70],\n",
    "    [71, 72, 73, 74, 75, 76, 77, 78, 79, 80],\n",
    "    [81, 82, 83, 84, 85, 86, 87, 88, 89, 90],\n",
    "    [91, 92, 93, 94, 95, 96, 97, 98, 99, 100]\n",
    "]\n",
    "```"
   ]
  },
  {
   "cell_type": "code",
   "execution_count": 7,
   "metadata": {},
   "outputs": [
    {
     "name": "stdout",
     "output_type": "stream",
     "text": [
      "1 2 11 3 12 21 4 13 22 31\n",
      "5 14 23 32 41 6 15 24 33 42\n",
      "51 7 16 25 34 43 52 61 8 17\n",
      "26 35 44 53 62 71 9 18 27 36\n",
      "45 54 63 72 81 10 19 28 37 46\n",
      "55 64 73 82 91 20 29 38 47 56\n",
      "65 74 83 92 30 39 48 57 66 75\n",
      "84 93 40 49 58 67 76 85 94 50\n",
      "59 68 77 86 95 60 69 78 87 96\n",
      "70 79 88 97 80 89 98 90 99 100\n",
      "\n"
     ]
    }
   ],
   "source": [
    "def diagonal_traversal(matrix):\n",
    "    if not matrix or not matrix[0]:\n",
    "        return\n",
    "    \n",
    "    rows, cols = len(matrix), len(matrix[0])\n",
    "    result = [[0] * cols for _ in range(rows)]\n",
    "    index = 0\n",
    "\n",
    "    for d in range(rows + cols - 1):\n",
    "        if d < cols:\n",
    "            row, col = 0, d\n",
    "        else:\n",
    "            row, col = d - cols + 1, cols - 1\n",
    "        \n",
    "        diagonal = []\n",
    "        while row < rows and col >= 0:\n",
    "            diagonal.append(matrix[row][col])\n",
    "            row += 1\n",
    "            col -= 1\n",
    "        \n",
    "        for val in diagonal:\n",
    "            result[index // cols][index % cols] = val\n",
    "            index += 1\n",
    "    \n",
    "    for row in result:\n",
    "        print(' '.join(map(str, row)))\n",
    "    print()\n",
    "\n",
    "# Example usage:\n",
    "matrix = [\n",
    "    [ 1,  2,  3,  4,  5,  6,  7,  8,  9, 10],\n",
    "    [11, 12, 13, 14, 15, 16, 17, 18, 19, 20],\n",
    "    [21, 22, 23, 24, 25, 26, 27, 28, 29, 30],\n",
    "    [31, 32, 33, 34, 35, 36, 37, 38, 39, 40],\n",
    "    [41, 42, 43, 44, 45, 46, 47, 48, 49, 50],\n",
    "    [51, 52, 53, 54, 55, 56, 57, 58, 59, 60],\n",
    "    [61, 62, 63, 64, 65, 66, 67, 68, 69, 70],\n",
    "    [71, 72, 73, 74, 75, 76, 77, 78, 79, 80],\n",
    "    [81, 82, 83, 84, 85, 86, 87, 88, 89, 90],\n",
    "    [91, 92, 93, 94, 95, 96, 97, 98, 99, 100]\n",
    "]\n",
    "\n",
    "diagonal_traversal(matrix)"
   ]
  },
  {
   "cell_type": "code",
   "execution_count": 5,
   "metadata": {},
   "outputs": [
    {
     "name": "stdout",
     "output_type": "stream",
     "text": [
      "1 11 2 21 12 3 31 22 13 4 41 32 23 14 5 51 42 33 24 15 6 61 52 43 34 25 16 7 71 62 53 44 35 26 17 8 81 72 63 54 45 36 27 18 9 91 82 73 64 55 46 37 28 19 10 92 83 74 65 56 47 38 29 20 93 84 75 66 57 48 39 30 94 85 76 67 58 49 40 95 86 77 68 59 50 96 87 78 69 60 97 88 79 70 98 89 80 99 90 100 \n"
     ]
    }
   ],
   "source": [
    "def diagonal_traversal_reverse(matrix):\n",
    "    if not matrix or not matrix[0]:\n",
    "        return\n",
    "    \n",
    "    rows, cols = len(matrix), len(matrix[0])\n",
    "    result = []\n",
    "\n",
    "    for d in range(rows + cols - 1):\n",
    "        if d < cols:\n",
    "            row, col = 0, d\n",
    "        else:\n",
    "            row, col = d - cols + 1, cols - 1\n",
    "        \n",
    "        diagonal = []\n",
    "        while row < rows and col >= 0:\n",
    "            diagonal.append(matrix[row][col])\n",
    "            row += 1\n",
    "            col -= 1\n",
    "        \n",
    "        result.extend(diagonal[::-1])\n",
    "    \n",
    "    for val in result:\n",
    "        print(val, end=' ')\n",
    "    print()\n",
    "\n",
    "# Example usage:\n",
    "matrix = [\n",
    "    [ 1,  2,  3,  4,  5,  6,  7,  8,  9, 10],\n",
    "    [11, 12, 13, 14, 15, 16, 17, 18, 19, 20],\n",
    "    [21, 22, 23, 24, 25, 26, 27, 28, 29, 30],\n",
    "    [31, 32, 33, 34, 35, 36, 37, 38, 39, 40],\n",
    "    [41, 42, 43, 44, 45, 46, 47, 48, 49, 50],\n",
    "    [51, 52, 53, 54, 55, 56, 57, 58, 59, 60],\n",
    "    [61, 62, 63, 64, 65, 66, 67, 68, 69, 70],\n",
    "    [71, 72, 73, 74, 75, 76, 77, 78, 79, 80],\n",
    "    [81, 82, 83, 84, 85, 86, 87, 88, 89, 90],\n",
    "    [91, 92, 93, 94, 95, 96, 97, 98, 99, 100]\n",
    "]\n",
    "\n",
    "diagonal_traversal_reverse(matrix)"
   ]
  },
  {
   "cell_type": "code",
   "execution_count": null,
   "metadata": {},
   "outputs": [],
   "source": []
  }
 ],
 "metadata": {
  "kernelspec": {
   "display_name": "network",
   "language": "python",
   "name": "python3"
  },
  "language_info": {
   "codemirror_mode": {
    "name": "ipython",
    "version": 3
   },
   "file_extension": ".py",
   "mimetype": "text/x-python",
   "name": "python",
   "nbconvert_exporter": "python",
   "pygments_lexer": "ipython3",
   "version": "3.12.5"
  }
 },
 "nbformat": 4,
 "nbformat_minor": 2
}
